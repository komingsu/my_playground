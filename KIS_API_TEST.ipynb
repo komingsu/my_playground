{
 "cells": [
  {
   "cell_type": "code",
   "execution_count": 4,
   "id": "fcee20b4",
   "metadata": {},
   "outputs": [],
   "source": [
    "# apps/collector/kis/auth_test.py\n",
    "import os\n",
    "import requests\n",
    "from dotenv import load_dotenv\n",
    "\n",
    "# 1) .env 로드\n",
    "load_dotenv()\n",
    "\n",
    "API_KEY = os.getenv(\"KIS_API_KEY_MOCK\")\n",
    "API_SECRET = os.getenv(\"KIS_API_SECRET_MOCK\")\n",
    "\n",
    "# KIS 모의 환경 기본 URL\n",
    "BASE_URL = \"https://openapivts.koreainvestment.com:29443\"\n",
    "\n",
    "def get_access_token():\n",
    "    url = f\"{BASE_URL}/oauth2/tokenP\"\n",
    "    headers = {\"content-type\": \"application/json\"}\n",
    "    body = {\n",
    "        \"grant_type\": \"client_credentials\",\n",
    "        \"appkey\": API_KEY,\n",
    "        \"appsecret\": API_SECRET,\n",
    "    }\n",
    "\n",
    "    res = requests.post(url, headers=headers, json=body)\n",
    "    print(res)\n",
    "    if res.status_code == 200:\n",
    "        data = res.json()\n",
    "        return data[\"access_token\"]\n",
    "    else:\n",
    "        print(\"Error:\", res.status_code, res.text)\n",
    "        return None"
   ]
  },
  {
   "cell_type": "code",
   "execution_count": null,
   "id": "d4d18822",
   "metadata": {},
   "outputs": [
    {
     "name": "stdout",
     "output_type": "stream",
     "text": [
      "<Response [200]>\n"
     ]
    }
   ],
   "source": [
    "token = get_access_token()\n"
   ]
  }
 ],
 "metadata": {
  "kernelspec": {
   "display_name": "ml",
   "language": "python",
   "name": "python3"
  },
  "language_info": {
   "codemirror_mode": {
    "name": "ipython",
    "version": 3
   },
   "file_extension": ".py",
   "mimetype": "text/x-python",
   "name": "python",
   "nbconvert_exporter": "python",
   "pygments_lexer": "ipython3",
   "version": "3.11.13"
  }
 },
 "nbformat": 4,
 "nbformat_minor": 5
}
